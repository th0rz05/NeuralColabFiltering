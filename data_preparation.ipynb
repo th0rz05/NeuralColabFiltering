{
 "cells": [
  {
   "cell_type": "code",
   "execution_count": 1,
   "metadata": {},
   "outputs": [
    {
     "name": "stdout",
     "output_type": "stream",
     "text": [
      "    player_id  game_id     score  normalized_score\n",
      "0           0        0  0.298322          0.050966\n",
      "1           0        1  0.465837          0.079584\n",
      "2           0        2  0.506277          0.086493\n",
      "3           0        3  0.341687          0.058375\n",
      "4           0        4  0.667351          0.114012\n",
      "5           0        5  0.280185          0.047867\n",
      "6           0        6  0.306587          0.052378\n",
      "7           0        7  0.242690          0.041462\n",
      "8           0        8  0.482153          0.082372\n",
      "9           0        9  0.361094          0.061690\n",
      "10          0       10  0.237090          0.040505\n",
      "11          0       11  0.387095          0.066132\n",
      "12          0       12  0.438304          0.074881\n",
      "13          0       13  0.389890          0.066610\n",
      "14          0       14  0.448799          0.076674\n",
      "15          1        1  0.197563          0.040415\n",
      "16          1       15  0.252342          0.051620\n",
      "17          1        2  0.323470          0.066171\n",
      "18          1       16  0.148165          0.030309\n",
      "19          1       17  0.258211          0.052821\n"
     ]
    }
   ],
   "source": [
    "import torch\n",
    "import torch.nn as nn\n",
    "import torch.optim as optim\n",
    "from torch.utils.data import DataLoader, Dataset\n",
    "import pandas as pd\n",
    "import numpy as np\n",
    "from sklearn.model_selection import train_test_split\n",
    "from sklearn.preprocessing import MinMaxScaler\n",
    "import warnings\n",
    "\n",
    "# Suppress specific FutureWarnings\n",
    "warnings.filterwarnings(\"ignore\", category=FutureWarning, module=\"sklearn.utils.validation\")\n",
    "\n",
    "pd.set_option('display.width', 1000)  # Change 1000 to the desired width\n",
    "pd.set_option('display.max_columns', None)  # Show all columns\n",
    "\n",
    "# Load the dataset\n",
    "file_path = \"slot_game_data.csv\"\n",
    "df = pd.read_csv(file_path)\n",
    "\n",
    "# Normalize the features\n",
    "scaler = MinMaxScaler()\n",
    "df[['session_duration_hours', 'money_spent', 'avg_bet_amount']] = scaler.fit_transform(df[['session_duration_hours', 'money_spent', 'avg_bet_amount']])\n",
    "\n",
    "# Define weights (you can adjust these based on domain knowledge)\n",
    "weights = {\n",
    "    'session_duration_hours': 0.4,\n",
    "    'money_spent': 0.4,\n",
    "    'avg_bet_amount': 0.2\n",
    "}\n",
    "\n",
    "# Calculate the score\n",
    "df['score'] = (df['session_duration_hours'] * weights['session_duration_hours'] +\n",
    "               df['money_spent'] * weights['money_spent'] +\n",
    "               df['avg_bet_amount'] * weights['avg_bet_amount'])\n",
    "\n",
    "# Aggregate scores by player_id and game_id (e.g., using mean)\n",
    "df = df.groupby(['player_id', 'game_id'])['score'].mean().reset_index()\n",
    "\n",
    "# Create a mapping of unique player and game IDs to indices\n",
    "player_mapping = {player: idx for idx, player in enumerate(df['player_id'].unique())}\n",
    "game_mapping = {game: idx for idx, game in enumerate(df['game_id'].unique())}\n",
    "\n",
    "df['player_id'] = df['player_id'].map(player_mapping)\n",
    "df['game_id'] = df['game_id'].map(game_mapping)\n",
    "\n",
    "# Normalize the scores for each player so that the sum of their scores across different games adds up to 1\n",
    "df['total_score'] = df.groupby('player_id')['score'].transform('sum')\n",
    "df['normalized_score'] = df['score'] / df['total_score']\n",
    "\n",
    "# Drop the total_score column as it's no longer needed\n",
    "df = df.drop(columns=['total_score'])\n",
    "\n",
    "# Check if the normalization was successful\n",
    "print(df.head(20))\n",
    "\n",
    "# Save dataframe to a new CSV file\n",
    "df.to_csv('data.csv', index=False)\n"
   ]
  }
 ],
 "metadata": {
  "colab": {
   "provenance": []
  },
  "kernelspec": {
   "display_name": "Python 3",
   "language": "python",
   "name": "python3"
  },
  "language_info": {
   "codemirror_mode": {
    "name": "ipython",
    "version": 3
   },
   "file_extension": ".py",
   "mimetype": "text/x-python",
   "name": "python",
   "nbconvert_exporter": "python",
   "pygments_lexer": "ipython3",
   "version": "3.9.20"
  }
 },
 "nbformat": 4,
 "nbformat_minor": 4
}
